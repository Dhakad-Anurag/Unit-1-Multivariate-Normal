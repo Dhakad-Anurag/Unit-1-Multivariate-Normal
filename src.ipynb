{
 "cells": [
  {
   "cell_type": "code",
   "execution_count": 10,
   "id": "7f69d152",
   "metadata": {},
   "outputs": [],
   "source": [
    "import numpy as np\n",
    "import matplotlib.pyplot as plt"
   ]
  },
  {
   "cell_type": "code",
   "execution_count": 11,
   "id": "e41d6f55",
   "metadata": {},
   "outputs": [],
   "source": [
    "arr = np.random.multivariate_normal(mean=(1,2,3,4),cov=[(1,0,0,0),(0,1,0,0),(0,0,1,0),(0,0,0,1)],size=10)"
   ]
  },
  {
   "cell_type": "code",
   "execution_count": 12,
   "id": "bd852093",
   "metadata": {},
   "outputs": [
    {
     "data": {
      "text/plain": [
       "array([[ 2.81549782,  1.16627423,  2.48582926,  3.94547654],\n",
       "       [ 1.82229874,  1.63997976,  2.1757425 ,  3.67977343],\n",
       "       [-1.58634082,  1.2454439 ,  3.91142708,  3.02356288],\n",
       "       [ 1.5942989 ,  0.28793207,  4.80117685,  3.52066748],\n",
       "       [ 1.08331844,  0.79478955,  2.34858066,  4.40152933],\n",
       "       [ 0.81048174,  1.41641387,  1.39384933,  4.36184865],\n",
       "       [ 1.24121933,  2.40483075,  3.86023156,  3.3239514 ],\n",
       "       [ 1.54143314,  2.21536992,  3.77247905,  3.58301422],\n",
       "       [ 1.17028903,  1.9242354 ,  1.54230908,  3.92392655],\n",
       "       [ 0.99145255,  1.12760374,  3.33863348,  5.24976246]])"
      ]
     },
     "execution_count": 12,
     "metadata": {},
     "output_type": "execute_result"
    }
   ],
   "source": [
    "arr"
   ]
  },
  {
   "cell_type": "code",
   "execution_count": 17,
   "id": "84bf68e3",
   "metadata": {},
   "outputs": [],
   "source": [
    "arr_mean = np.mean(arr)"
   ]
  },
  {
   "cell_type": "code",
   "execution_count": 18,
   "id": "1c7cf289",
   "metadata": {},
   "outputs": [
    {
     "data": {
      "text/plain": [
       "np.float64(2.358764846043293)"
      ]
     },
     "execution_count": 18,
     "metadata": {},
     "output_type": "execute_result"
    }
   ],
   "source": [
    "arr_mean"
   ]
  },
  {
   "cell_type": "code",
   "execution_count": null,
   "id": "dd9ccbf9",
   "metadata": {},
   "outputs": [],
   "source": []
  }
 ],
 "metadata": {
  "kernelspec": {
   "display_name": ".venv",
   "language": "python",
   "name": "python3"
  },
  "language_info": {
   "codemirror_mode": {
    "name": "ipython",
    "version": 3
   },
   "file_extension": ".py",
   "mimetype": "text/x-python",
   "name": "python",
   "nbconvert_exporter": "python",
   "pygments_lexer": "ipython3",
   "version": "3.12.3"
  }
 },
 "nbformat": 4,
 "nbformat_minor": 5
}
